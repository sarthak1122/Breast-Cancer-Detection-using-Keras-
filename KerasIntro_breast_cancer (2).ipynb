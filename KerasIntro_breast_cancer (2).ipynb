{
  "nbformat": 4,
  "nbformat_minor": 0,
  "metadata": {
    "kernelspec": {
      "display_name": "Python 3",
      "language": "python",
      "name": "python3"
    },
    "language_info": {
      "codemirror_mode": {
        "name": "ipython",
        "version": 3
      },
      "file_extension": ".py",
      "mimetype": "text/x-python",
      "name": "python",
      "nbconvert_exporter": "python",
      "pygments_lexer": "ipython3",
      "version": "3.7.6"
    },
    "colab": {
      "name": "KerasIntro_breast_cancer.ipynb",
      "provenance": [],
      "collapsed_sections": []
    },
    "accelerator": "GPU"
  },
  "cells": [
    {
      "cell_type": "code",
      "metadata": {
        "id": "7dgyj-CYEX9c",
        "colab_type": "code",
        "colab": {
          "base_uri": "https://localhost:8080/",
          "height": 34
        },
        "outputId": "1a174e87-ae4e-445b-8b96-1b11850f0d49"
      },
      "source": [
        "from keras.models import Sequential\n",
        "from keras.layers import Dense"
      ],
      "execution_count": null,
      "outputs": [
        {
          "output_type": "stream",
          "text": [
            "Using TensorFlow backend.\n"
          ],
          "name": "stderr"
        }
      ]
    },
    {
      "cell_type": "code",
      "metadata": {
        "id": "RKN_w9AjEX9n",
        "colab_type": "code",
        "colab": {}
      },
      "source": [
        "# Creating a Model\n",
        "model = Sequential()"
      ],
      "execution_count": null,
      "outputs": []
    },
    {
      "cell_type": "code",
      "metadata": {
        "id": "UmHeY0tPEX9t",
        "colab_type": "code",
        "colab": {}
      },
      "source": [
        "layer1 = Dense(units=32, activation = 'relu', input_dim = 30)\n",
        "model.add(layer1)\n",
        "model.add(Dense(units=16, activation = 'relu'))\n",
        "model.add(Dense(units=1, activation = 'sigmoid'))"
      ],
      "execution_count": null,
      "outputs": []
    },
    {
      "cell_type": "code",
      "metadata": {
        "id": "1qngCGE-EX9z",
        "colab_type": "code",
        "colab": {}
      },
      "source": [
        "model.compile(optimizer='adam', loss='binary_crossentropy', metrics=['accuracy'])"
      ],
      "execution_count": null,
      "outputs": []
    },
    {
      "cell_type": "code",
      "metadata": {
        "id": "JI24Vh31EX96",
        "colab_type": "code",
        "colab": {}
      },
      "source": [
        "from sklearn import datasets\n",
        "cancer = datasets.load_breast_cancer()\n",
        "from sklearn.model_selection import train_test_split\n",
        "\n",
        "x_train, x_test, y_train, y_test = train_test_split(cancer.data, cancer.target, test_size = 0.2, random_state = 0)\n",
        "\n",
        "from sklearn.preprocessing import StandardScaler\n",
        "\n",
        "sc = StandardScaler()\n",
        "x_train = sc.fit_transform(x_train)\n",
        "x_test = sc.transform(x_test)"
      ],
      "execution_count": null,
      "outputs": []
    },
    {
      "cell_type": "code",
      "metadata": {
        "id": "ZRH9nwUlEX-B",
        "colab_type": "code",
        "colab": {
          "base_uri": "https://localhost:8080/",
          "height": 722
        },
        "outputId": "846ca52b-4cbd-4e27-a2db-bd0518bc615a"
      },
      "source": [
        "model.fit(x_train, y_train, epochs=20, batch_size = 50, validation_data=(x_test, y_test))"
      ],
      "execution_count": null,
      "outputs": [
        {
          "output_type": "stream",
          "text": [
            "Train on 455 samples, validate on 114 samples\n",
            "Epoch 1/20\n",
            "455/455 [==============================] - 2s 4ms/step - loss: 0.6042 - accuracy: 0.7363 - val_loss: 0.4974 - val_accuracy: 0.8596\n",
            "Epoch 2/20\n",
            "455/455 [==============================] - 0s 103us/step - loss: 0.4484 - accuracy: 0.9165 - val_loss: 0.3762 - val_accuracy: 0.8947\n",
            "Epoch 3/20\n",
            "455/455 [==============================] - 0s 98us/step - loss: 0.3404 - accuracy: 0.9341 - val_loss: 0.3012 - val_accuracy: 0.8947\n",
            "Epoch 4/20\n",
            "455/455 [==============================] - 0s 119us/step - loss: 0.2711 - accuracy: 0.9341 - val_loss: 0.2542 - val_accuracy: 0.9123\n",
            "Epoch 5/20\n",
            "455/455 [==============================] - 0s 97us/step - loss: 0.2239 - accuracy: 0.9407 - val_loss: 0.2182 - val_accuracy: 0.9298\n",
            "Epoch 6/20\n",
            "455/455 [==============================] - 0s 100us/step - loss: 0.1920 - accuracy: 0.9451 - val_loss: 0.1945 - val_accuracy: 0.9298\n",
            "Epoch 7/20\n",
            "455/455 [==============================] - 0s 98us/step - loss: 0.1702 - accuracy: 0.9582 - val_loss: 0.1756 - val_accuracy: 0.9298\n",
            "Epoch 8/20\n",
            "455/455 [==============================] - 0s 98us/step - loss: 0.1519 - accuracy: 0.9626 - val_loss: 0.1598 - val_accuracy: 0.9386\n",
            "Epoch 9/20\n",
            "455/455 [==============================] - 0s 108us/step - loss: 0.1372 - accuracy: 0.9648 - val_loss: 0.1467 - val_accuracy: 0.9386\n",
            "Epoch 10/20\n",
            "455/455 [==============================] - 0s 100us/step - loss: 0.1247 - accuracy: 0.9670 - val_loss: 0.1367 - val_accuracy: 0.9298\n",
            "Epoch 11/20\n",
            "455/455 [==============================] - 0s 110us/step - loss: 0.1151 - accuracy: 0.9670 - val_loss: 0.1282 - val_accuracy: 0.9298\n",
            "Epoch 12/20\n",
            "455/455 [==============================] - 0s 107us/step - loss: 0.1069 - accuracy: 0.9692 - val_loss: 0.1212 - val_accuracy: 0.9298\n",
            "Epoch 13/20\n",
            "455/455 [==============================] - 0s 98us/step - loss: 0.1001 - accuracy: 0.9714 - val_loss: 0.1145 - val_accuracy: 0.9474\n",
            "Epoch 14/20\n",
            "455/455 [==============================] - 0s 94us/step - loss: 0.0945 - accuracy: 0.9736 - val_loss: 0.1085 - val_accuracy: 0.9474\n",
            "Epoch 15/20\n",
            "455/455 [==============================] - 0s 98us/step - loss: 0.0892 - accuracy: 0.9758 - val_loss: 0.1034 - val_accuracy: 0.9649\n",
            "Epoch 16/20\n",
            "455/455 [==============================] - 0s 103us/step - loss: 0.0848 - accuracy: 0.9802 - val_loss: 0.0991 - val_accuracy: 0.9649\n",
            "Epoch 17/20\n",
            "455/455 [==============================] - 0s 104us/step - loss: 0.0813 - accuracy: 0.9802 - val_loss: 0.0946 - val_accuracy: 0.9649\n",
            "Epoch 18/20\n",
            "455/455 [==============================] - 0s 108us/step - loss: 0.0779 - accuracy: 0.9802 - val_loss: 0.0915 - val_accuracy: 0.9649\n",
            "Epoch 19/20\n",
            "455/455 [==============================] - 0s 99us/step - loss: 0.0747 - accuracy: 0.9802 - val_loss: 0.0882 - val_accuracy: 0.9737\n",
            "Epoch 20/20\n",
            "455/455 [==============================] - 0s 106us/step - loss: 0.0723 - accuracy: 0.9824 - val_loss: 0.0852 - val_accuracy: 0.9737\n"
          ],
          "name": "stdout"
        },
        {
          "output_type": "execute_result",
          "data": {
            "text/plain": [
              "<keras.callbacks.callbacks.History at 0x7faae0f9bcf8>"
            ]
          },
          "metadata": {
            "tags": []
          },
          "execution_count": 7
        }
      ]
    },
    {
      "cell_type": "code",
      "metadata": {
        "id": "sUsSpV9yEX-H",
        "colab_type": "code",
        "colab": {
          "base_uri": "https://localhost:8080/",
          "height": 50
        },
        "outputId": "4eef61ca-a4b1-4b8e-9a84-129e70afeab2"
      },
      "source": [
        "predictions = model.predict(x_test)\n",
        "score = model.evaluate(x_test, y_test)\n",
        "score"
      ],
      "execution_count": null,
      "outputs": [
        {
          "output_type": "stream",
          "text": [
            "114/114 [==============================] - 0s 116us/step\n"
          ],
          "name": "stdout"
        },
        {
          "output_type": "execute_result",
          "data": {
            "text/plain": [
              "[0.08516849159148701, 0.9736841917037964]"
            ]
          },
          "metadata": {
            "tags": []
          },
          "execution_count": 8
        }
      ]
    },
    {
      "cell_type": "code",
      "metadata": {
        "id": "xVHuACZaNF0d",
        "colab_type": "code",
        "colab": {}
      },
      "source": [
        ""
      ],
      "execution_count": null,
      "outputs": []
    }
  ]
}